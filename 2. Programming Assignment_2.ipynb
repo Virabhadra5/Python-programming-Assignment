{
 "cells": [
  {
   "cell_type": "raw",
   "id": "500bec13",
   "metadata": {},
   "source": [
    "Programming Assignment_2\n",
    "1. Write a Python program to convert kilometers to miles?\n",
    "2. Write a Python program to convert Celsius to Fahrenheit?\n",
    "3. Write a Python program to display calendar?\n",
    "4. Write a Python program to solve quadratic equation?\n",
    "5. Write a Python program to swap two variables without temp variable?"
   ]
  },
  {
   "cell_type": "markdown",
   "id": "f10caf5c",
   "metadata": {},
   "source": [
    "# Q1. Write a Python program to convert kilometers to miles?\n"
   ]
  },
  {
   "cell_type": "code",
   "execution_count": 1,
   "id": "010e148c",
   "metadata": {},
   "outputs": [
    {
     "name": "stdout",
     "output_type": "stream",
     "text": [
      "enter distance in kilometers: 1\n",
      " distance in miles:  0.6213727366498067\n"
     ]
    }
   ],
   "source": [
    "#Asnwer Q1:\n",
    "k=float(input(\"enter distance in kilometers: \"))\n",
    "m=k/1.60934\n",
    "print(\" distance in miles: \", m)"
   ]
  },
  {
   "cell_type": "markdown",
   "id": "32b5c16c",
   "metadata": {},
   "source": [
    "# Q2. Write a Python program to convert Celsius to Fahrenheit?\n"
   ]
  },
  {
   "cell_type": "code",
   "execution_count": 2,
   "id": "ddb0e439",
   "metadata": {},
   "outputs": [
    {
     "name": "stdout",
     "output_type": "stream",
     "text": [
      "temparature in celsius: 37\n",
      "temparature in fahrenheit:  98.6\n"
     ]
    }
   ],
   "source": [
    "#Answer Q2:\n",
    "c=float(input(\"temparature in celsius: \"))\n",
    "f=(32+9*c/5)\n",
    "print(\"temparature in fahrenheit: \", f )"
   ]
  },
  {
   "cell_type": "markdown",
   "id": "22f173f9",
   "metadata": {},
   "source": [
    "# Q3. Write a Python program to display calendar?\n"
   ]
  },
  {
   "cell_type": "code",
   "execution_count": 8,
   "id": "cb76fdca",
   "metadata": {},
   "outputs": [
    {
     "name": "stdout",
     "output_type": "stream",
     "text": [
      "                                  2022\n",
      "\n",
      "      January                   February                   March\n",
      "Mo Tu We Th Fr Sa Su      Mo Tu We Th Fr Sa Su      Mo Tu We Th Fr Sa Su\n",
      "                1  2          1  2  3  4  5  6          1  2  3  4  5  6\n",
      " 3  4  5  6  7  8  9       7  8  9 10 11 12 13       7  8  9 10 11 12 13\n",
      "10 11 12 13 14 15 16      14 15 16 17 18 19 20      14 15 16 17 18 19 20\n",
      "17 18 19 20 21 22 23      21 22 23 24 25 26 27      21 22 23 24 25 26 27\n",
      "24 25 26 27 28 29 30      28                        28 29 30 31\n",
      "31\n",
      "\n",
      "       April                      May                       June\n",
      "Mo Tu We Th Fr Sa Su      Mo Tu We Th Fr Sa Su      Mo Tu We Th Fr Sa Su\n",
      "             1  2  3                         1             1  2  3  4  5\n",
      " 4  5  6  7  8  9 10       2  3  4  5  6  7  8       6  7  8  9 10 11 12\n",
      "11 12 13 14 15 16 17       9 10 11 12 13 14 15      13 14 15 16 17 18 19\n",
      "18 19 20 21 22 23 24      16 17 18 19 20 21 22      20 21 22 23 24 25 26\n",
      "25 26 27 28 29 30         23 24 25 26 27 28 29      27 28 29 30\n",
      "                          30 31\n",
      "\n",
      "        July                     August                  September\n",
      "Mo Tu We Th Fr Sa Su      Mo Tu We Th Fr Sa Su      Mo Tu We Th Fr Sa Su\n",
      "             1  2  3       1  2  3  4  5  6  7                1  2  3  4\n",
      " 4  5  6  7  8  9 10       8  9 10 11 12 13 14       5  6  7  8  9 10 11\n",
      "11 12 13 14 15 16 17      15 16 17 18 19 20 21      12 13 14 15 16 17 18\n",
      "18 19 20 21 22 23 24      22 23 24 25 26 27 28      19 20 21 22 23 24 25\n",
      "25 26 27 28 29 30 31      29 30 31                  26 27 28 29 30\n",
      "\n",
      "      October                   November                  December\n",
      "Mo Tu We Th Fr Sa Su      Mo Tu We Th Fr Sa Su      Mo Tu We Th Fr Sa Su\n",
      "                1  2          1  2  3  4  5  6                1  2  3  4\n",
      " 3  4  5  6  7  8  9       7  8  9 10 11 12 13       5  6  7  8  9 10 11\n",
      "10 11 12 13 14 15 16      14 15 16 17 18 19 20      12 13 14 15 16 17 18\n",
      "17 18 19 20 21 22 23      21 22 23 24 25 26 27      19 20 21 22 23 24 25\n",
      "24 25 26 27 28 29 30      28 29 30                  26 27 28 29 30 31\n",
      "31\n",
      "\n"
     ]
    }
   ],
   "source": [
    "#Answer Q3:\n",
    "import calendar\n",
    "print(calendar.calendar(2022))"
   ]
  },
  {
   "cell_type": "markdown",
   "id": "cd9c0583",
   "metadata": {},
   "source": [
    "# Q4. Write a Python program to solve quadratic equation?\n"
   ]
  },
  {
   "cell_type": "code",
   "execution_count": 14,
   "id": "3d58d861",
   "metadata": {},
   "outputs": [
    {
     "name": "stdout",
     "output_type": "stream",
     "text": [
      "enter value of a: 1\n",
      "enter value of b: 2\n",
      "enter value of c: 4\n",
      "the complex roots are (-1-1.7320508075688772j) and (-1+1.7320508075688772j)\n"
     ]
    }
   ],
   "source": [
    "#Answer Q4:\n",
    "import cmath \n",
    "a=int(input(\"enter value of a: \"))\n",
    "b=int(input(\"enter value of b: \"))\n",
    "c=int(input(\"enter value of c: \"))\n",
    "\n",
    "if a==0:\n",
    "    print(\"enter correct quadratic values a not equal to 0\")\n",
    "\n",
    "d=b**2-4*a*c\n",
    "Sol1 = (-b-cmath.sqrt(d))/(2*a)\n",
    "Sol2 = (-b+cmath.sqrt(d))/(2*a)\n",
    "if d > 0:\n",
    "    print(\"the real roots are {} and {}\".format(Sol1,Sol2))\n",
    "    \n",
    "elif d<0:\n",
    "    print(\"the complex roots are {} and {}\".format(Sol1,Sol2))\n",
    "\n",
    "\n"
   ]
  },
  {
   "cell_type": "markdown",
   "id": "110eb46a",
   "metadata": {},
   "source": [
    "# Q5. Write a Python program to swap two variables without temp variable?"
   ]
  },
  {
   "cell_type": "code",
   "execution_count": 15,
   "id": "536401f0",
   "metadata": {},
   "outputs": [
    {
     "name": "stdout",
     "output_type": "stream",
     "text": [
      "a before swap:  hello\n",
      "b before swap hi\n",
      "a after swap:  hi\n",
      "b after swap hello\n"
     ]
    }
   ],
   "source": [
    "#Answer Q5:\n",
    "a=\"hello\"\n",
    "b=\"hi\"\n",
    "print(\"a before swap: \", a)\n",
    "print(\"b before swap\", b)\n",
    "a,b=b,a\n",
    "print(\"a after swap: \", a)\n",
    "print(\"b after swap\", b)"
   ]
  },
  {
   "cell_type": "code",
   "execution_count": null,
   "id": "a07583a4",
   "metadata": {},
   "outputs": [],
   "source": []
  }
 ],
 "metadata": {
  "kernelspec": {
   "display_name": "Python 3 (ipykernel)",
   "language": "python",
   "name": "python3"
  },
  "language_info": {
   "codemirror_mode": {
    "name": "ipython",
    "version": 3
   },
   "file_extension": ".py",
   "mimetype": "text/x-python",
   "name": "python",
   "nbconvert_exporter": "python",
   "pygments_lexer": "ipython3",
   "version": "3.9.7"
  }
 },
 "nbformat": 4,
 "nbformat_minor": 5
}

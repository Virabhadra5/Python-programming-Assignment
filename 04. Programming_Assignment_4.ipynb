{
 "cells": [
  {
   "cell_type": "raw",
   "id": "98929ddc",
   "metadata": {},
   "source": [
    "1.\tWrite a Python Program to Find the Factorial of a Number?\n",
    "2.\tWrite a Python Program to Display the multiplication Table?\n",
    "3.\tWrite a Python Program to Print the Fibonacci sequence?\n",
    "4.\tWrite a Python Program to Check Armstrong Number?\n",
    "5.\tWrite a Python Program to Find Armstrong Number in an Interval?\n",
    "6.\tWrite a Python Program to Find the Sum of Natural Numbers?\n"
   ]
  },
  {
   "cell_type": "raw",
   "id": "04e7f0c2",
   "metadata": {},
   "source": [
    "Q1.Write a Python Program to Find the Factorial of a Number?"
   ]
  },
  {
   "cell_type": "code",
   "execution_count": 10,
   "id": "b7c78570",
   "metadata": {},
   "outputs": [
    {
     "data": {
      "text/plain": [
       "120"
      ]
     },
     "execution_count": 10,
     "metadata": {},
     "output_type": "execute_result"
    }
   ],
   "source": [
    "#ANSWER Q1:\n",
    "def factorial(n):\n",
    "    x=1\n",
    "    for i in range(1,n+1):\n",
    "        x=x*i\n",
    "    return x\n",
    "factorial(5)"
   ]
  },
  {
   "cell_type": "raw",
   "id": "8d3555b2",
   "metadata": {},
   "source": [
    "Q2.Write a Python Program to Display the multiplication Table?"
   ]
  },
  {
   "cell_type": "code",
   "execution_count": 17,
   "id": "a5bd429a",
   "metadata": {},
   "outputs": [],
   "source": [
    "#Answer Q2:\n",
    "def mult_Table(n):\n",
    "    for i in range(1,10+1):\n",
    "        print(\"{}*{} = \".format(n,i) , n*i)\n",
    "    "
   ]
  },
  {
   "cell_type": "code",
   "execution_count": 20,
   "id": "245de450",
   "metadata": {},
   "outputs": [
    {
     "name": "stdout",
     "output_type": "stream",
     "text": [
      "4*1 =  4\n",
      "4*2 =  8\n",
      "4*3 =  12\n",
      "4*4 =  16\n",
      "4*5 =  20\n",
      "4*6 =  24\n",
      "4*7 =  28\n",
      "4*8 =  32\n",
      "4*9 =  36\n",
      "4*10 =  40\n"
     ]
    }
   ],
   "source": [
    "mult_Table(4)"
   ]
  },
  {
   "cell_type": "raw",
   "id": "56bd8a21",
   "metadata": {},
   "source": [
    "Q3.Write a Python Program to Print the Fibonacci sequence?"
   ]
  },
  {
   "cell_type": "code",
   "execution_count": 28,
   "id": "9161c02e",
   "metadata": {},
   "outputs": [
    {
     "name": "stdout",
     "output_type": "stream",
     "text": [
      "0\n",
      "1\n",
      "1\n",
      "2\n",
      "3\n",
      "5\n",
      "8\n",
      "13\n",
      "21\n",
      "34\n",
      "55\n",
      "89\n",
      "144\n"
     ]
    }
   ],
   "source": [
    "#AnswerQ3:\n",
    "def fib(n):\n",
    "    a=0\n",
    "    b=1\n",
    "    if n==1:\n",
    "        print(a)\n",
    "    else:\n",
    "        print(a)\n",
    "        print(b)\n",
    "        for i in range(2,n):\n",
    "            c=a+b\n",
    "            a=b\n",
    "            b=c\n",
    "            print(c)\n",
    "            \n",
    "fib(13)    "
   ]
  },
  {
   "cell_type": "raw",
   "id": "25c75a24",
   "metadata": {},
   "source": [
    "Q4.Write a Python Program to Check Armstrong Number?"
   ]
  },
  {
   "cell_type": "code",
   "execution_count": 36,
   "id": "094d262f",
   "metadata": {},
   "outputs": [],
   "source": [
    "#ANSWER Q4:\n",
    "def isarmstrong(n):\n",
    "    m=len(str(n))\n",
    "    sum=0\n",
    "    temp=n\n",
    "    \n",
    "    while temp != 0:\n",
    "        k=temp%10\n",
    "        sum=sum+k**m\n",
    "        temp=temp//10\n",
    "        \n",
    "    if sum==n:\n",
    "        print(\"the number {} is armstrong number\".format(n))\n",
    "    else:\n",
    "        print(\"the number {} is not an armstrong number\".format(n))\n",
    "    "
   ]
  },
  {
   "cell_type": "code",
   "execution_count": 37,
   "id": "046d1dc9",
   "metadata": {},
   "outputs": [
    {
     "name": "stdout",
     "output_type": "stream",
     "text": [
      "the number 1634 is armstrong number\n"
     ]
    }
   ],
   "source": [
    "isarmstrong(1634)"
   ]
  },
  {
   "cell_type": "code",
   "execution_count": 38,
   "id": "a909a54f",
   "metadata": {},
   "outputs": [
    {
     "name": "stdout",
     "output_type": "stream",
     "text": [
      "the number 153 is armstrong number\n"
     ]
    }
   ],
   "source": [
    "isarmstrong(153)"
   ]
  },
  {
   "cell_type": "code",
   "execution_count": 39,
   "id": "a67bdb6c",
   "metadata": {},
   "outputs": [
    {
     "name": "stdout",
     "output_type": "stream",
     "text": [
      "the number 1345 is not an armstrong number\n"
     ]
    }
   ],
   "source": [
    "isarmstrong(1345)"
   ]
  },
  {
   "cell_type": "raw",
   "id": "6ad50a1c",
   "metadata": {},
   "source": [
    "Q5.Write a Python Program to Find Armstrong Number in an Interval?"
   ]
  },
  {
   "cell_type": "code",
   "execution_count": 35,
   "id": "7d663403",
   "metadata": {},
   "outputs": [],
   "source": [
    "#Answer Q5:\n",
    "def armstrong(x,y):\n",
    "    \n",
    "    for i in range(x,y+1):    \n",
    "        m=len(str(i))\n",
    "        sum=0\n",
    "        temp=i\n",
    "\n",
    "        while temp != 0:\n",
    "            k=temp%10\n",
    "            sum=sum+k**m\n",
    "            temp=temp//10\n",
    "\n",
    "        if sum==i:\n",
    "            print(i)\n",
    "        else:\n",
    "            pass"
   ]
  },
  {
   "cell_type": "code",
   "execution_count": 40,
   "id": "a0ccb1b2",
   "metadata": {},
   "outputs": [
    {
     "name": "stdout",
     "output_type": "stream",
     "text": [
      "1\n",
      "2\n",
      "3\n",
      "4\n",
      "5\n",
      "6\n",
      "7\n",
      "8\n",
      "9\n",
      "153\n",
      "370\n",
      "371\n",
      "407\n"
     ]
    }
   ],
   "source": [
    "armstrong(1,1000)"
   ]
  },
  {
   "cell_type": "raw",
   "id": "a030c494",
   "metadata": {},
   "source": [
    "Q6.Write a Python Program to Find the Sum of Natural Numbers?\n"
   ]
  },
  {
   "cell_type": "code",
   "execution_count": 44,
   "id": "5a871bd6",
   "metadata": {},
   "outputs": [],
   "source": [
    "#Answer Q6:\n",
    "def sum_natural(n):\n",
    "    x=0\n",
    "    if n==0:\n",
    "        print(\"please enter natural numbers above zero\")\n",
    "    else:\n",
    "        for i in range(1,n+1):\n",
    "            x+=i\n",
    "    return x\n"
   ]
  },
  {
   "cell_type": "code",
   "execution_count": 45,
   "id": "f87b69ca",
   "metadata": {},
   "outputs": [
    {
     "data": {
      "text/plain": [
       "3"
      ]
     },
     "execution_count": 45,
     "metadata": {},
     "output_type": "execute_result"
    }
   ],
   "source": [
    "sum_natural(2)"
   ]
  },
  {
   "cell_type": "code",
   "execution_count": 46,
   "id": "0249292e",
   "metadata": {},
   "outputs": [
    {
     "data": {
      "text/plain": [
       "55"
      ]
     },
     "execution_count": 46,
     "metadata": {},
     "output_type": "execute_result"
    }
   ],
   "source": [
    "sum_natural(10)"
   ]
  }
 ],
 "metadata": {
  "kernelspec": {
   "display_name": "Python 3 (ipykernel)",
   "language": "python",
   "name": "python3"
  },
  "language_info": {
   "codemirror_mode": {
    "name": "ipython",
    "version": 3
   },
   "file_extension": ".py",
   "mimetype": "text/x-python",
   "name": "python",
   "nbconvert_exporter": "python",
   "pygments_lexer": "ipython3",
   "version": "3.9.7"
  }
 },
 "nbformat": 4,
 "nbformat_minor": 5
}

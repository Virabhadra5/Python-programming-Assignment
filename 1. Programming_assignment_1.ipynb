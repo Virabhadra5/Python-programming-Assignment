{
 "cells": [
  {
   "cell_type": "raw",
   "id": "bb73263c",
   "metadata": {},
   "source": [
    "PROGRAMMING ASSIGNMENT 1\n",
    "1. Write a Python program to print &quot;Hello Python&quot;?\n",
    "2. Write a Python program to do arithmetical operations addition and division.?\n",
    "3. Write a Python program to find the area of a triangle?\n",
    "4. Write a Python program to swap two variables?\n",
    "5. Write a Python program to generate a random number?"
   ]
  },
  {
   "cell_type": "markdown",
   "id": "b58b68b6",
   "metadata": {},
   "source": [
    "# Q1. Write a Python program to print &quot;Hello Python&quot;?"
   ]
  },
  {
   "cell_type": "code",
   "execution_count": 1,
   "id": "26e402b7",
   "metadata": {},
   "outputs": [
    {
     "name": "stdout",
     "output_type": "stream",
     "text": [
      "Hello Python\n"
     ]
    }
   ],
   "source": [
    "#Answer Q1:\n",
    "print(\"Hello Python\")"
   ]
  },
  {
   "cell_type": "markdown",
   "id": "8574621a",
   "metadata": {},
   "source": [
    "# Q2. Write a Python program to do arithmetical operations addition and division.?"
   ]
  },
  {
   "cell_type": "code",
   "execution_count": 2,
   "id": "bd55caff",
   "metadata": {},
   "outputs": [
    {
     "name": "stdout",
     "output_type": "stream",
     "text": [
      "Addition operation 30\n",
      "division operation 0.5\n"
     ]
    }
   ],
   "source": [
    "#Answer Q2:\n",
    "x=10\n",
    "y=20\n",
    "print(\"Addition operation\", x+y)\n",
    "print(\"division operation\", x/y)"
   ]
  },
  {
   "cell_type": "markdown",
   "id": "81cddbb0",
   "metadata": {},
   "source": [
    "\n",
    "# Q3. Write a Python program to find the area of a triangle?"
   ]
  },
  {
   "cell_type": "code",
   "execution_count": 3,
   "id": "a0e5ff55",
   "metadata": {},
   "outputs": [
    {
     "name": "stdout",
     "output_type": "stream",
     "text": [
      "enter base of triangle: 4\n",
      "enter height of triangle: 7\n",
      "area of traingle is =  14.0\n"
     ]
    }
   ],
   "source": [
    "#Answer Q3:\n",
    "b=float(input(\"enter base of triangle: \"))\n",
    "h=float(input(\"enter height of triangle: \"))\n",
    "print(\"area of traingle is = \", 0.5*b*h)"
   ]
  },
  {
   "cell_type": "markdown",
   "id": "a4466140",
   "metadata": {},
   "source": [
    "# Q4. Write a Python program to swap two variables?"
   ]
  },
  {
   "cell_type": "code",
   "execution_count": 4,
   "id": "9d2549c6",
   "metadata": {},
   "outputs": [
    {
     "name": "stdout",
     "output_type": "stream",
     "text": [
      "value of a before swaping:  10\n",
      "value of b before swaping:  20\n",
      "value of a after swaping:  20\n",
      "value of b after swaping:  10\n"
     ]
    }
   ],
   "source": [
    "#Answer Q4:\n",
    "a=10\n",
    "b=20\n",
    "print(\"value of a before swaping: \", a)\n",
    "print(\"value of b before swaping: \", b)\n",
    "a,b=b,a\n",
    "print(\"value of a after swaping: \", a)\n",
    "print(\"value of b after swaping: \", b)"
   ]
  },
  {
   "cell_type": "markdown",
   "id": "397eaa22",
   "metadata": {},
   "source": [
    "# Q5. Write a Python program to generate a random number?"
   ]
  },
  {
   "cell_type": "code",
   "execution_count": 6,
   "id": "3f5c8966",
   "metadata": {},
   "outputs": [
    {
     "name": "stdout",
     "output_type": "stream",
     "text": [
      "Random number is:  8497\n"
     ]
    }
   ],
   "source": [
    "import random as rd\n",
    "print(\"Random number is: \", rd.randint(0,100000))"
   ]
  },
  {
   "cell_type": "code",
   "execution_count": null,
   "id": "1cbcb4d9",
   "metadata": {},
   "outputs": [],
   "source": []
  }
 ],
 "metadata": {
  "kernelspec": {
   "display_name": "Python 3 (ipykernel)",
   "language": "python",
   "name": "python3"
  },
  "language_info": {
   "codemirror_mode": {
    "name": "ipython",
    "version": 3
   },
   "file_extension": ".py",
   "mimetype": "text/x-python",
   "name": "python",
   "nbconvert_exporter": "python",
   "pygments_lexer": "ipython3",
   "version": "3.9.7"
  }
 },
 "nbformat": 4,
 "nbformat_minor": 5
}

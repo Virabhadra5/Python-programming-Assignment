{
 "cells": [
  {
   "cell_type": "markdown",
   "id": "25d0a3c7",
   "metadata": {},
   "source": [
    "#Q1. Write a Python Program to Display Fibonacci Sequence Using Recursion?"
   ]
  },
  {
   "cell_type": "code",
   "execution_count": 2,
   "id": "87523b4a",
   "metadata": {},
   "outputs": [
    {
     "name": "stdout",
     "output_type": "stream",
     "text": [
      "enter valu of n : 10\n",
      "0 1 1 2 3 5 8 13 21 34 "
     ]
    }
   ],
   "source": [
    "#Answer Q1:\n",
    "\n",
    "def fib(n):\n",
    "    if n==1:\n",
    "        return 0\n",
    "    elif n==2:\n",
    "        return 1\n",
    "    else:\n",
    "        return fib(n-1)+fib(n-2)\n",
    "n=int(input(\"enter valu of n : \"))    \n",
    "for i in range(1,n+1):\n",
    "    print(fib(i), end=\" \")"
   ]
  },
  {
   "cell_type": "markdown",
   "id": "335658eb",
   "metadata": {},
   "source": [
    "#Q2. Write a Python Program to Find Factorial of Number Using Recursion?"
   ]
  },
  {
   "cell_type": "code",
   "execution_count": 3,
   "id": "f33f9078",
   "metadata": {},
   "outputs": [],
   "source": [
    "#Answer Q2:\n",
    "def factorial(n):\n",
    "    if n==0:\n",
    "        return 1\n",
    "    \n",
    "    return n*factorial(n-1)"
   ]
  },
  {
   "cell_type": "code",
   "execution_count": 6,
   "id": "8abe3094",
   "metadata": {},
   "outputs": [
    {
     "data": {
      "text/plain": [
       "120"
      ]
     },
     "execution_count": 6,
     "metadata": {},
     "output_type": "execute_result"
    }
   ],
   "source": [
    "factorial(5)"
   ]
  },
  {
   "cell_type": "code",
   "execution_count": 7,
   "id": "8b27f596",
   "metadata": {},
   "outputs": [],
   "source": [
    "#Q3. Write a Python Program to calculate your Body Mass Index?"
   ]
  },
  {
   "cell_type": "code",
   "execution_count": 9,
   "id": "b6ef4535",
   "metadata": {},
   "outputs": [
    {
     "name": "stdout",
     "output_type": "stream",
     "text": [
      "enter weight in kgs = 72\n",
      "enter height in cms = 177\n"
     ]
    },
    {
     "data": {
      "text/plain": [
       "22.981901752370007"
      ]
     },
     "execution_count": 9,
     "metadata": {},
     "output_type": "execute_result"
    }
   ],
   "source": [
    "#Answer Q3:\n",
    "def bmi():\n",
    "    w=float(input(\"enter weight in kgs = \"))\n",
    "    h=float(input(\"enter height in cms = \"))\n",
    "    bmi=w/((h/100)**2)\n",
    "    return bmi\n",
    "bmi()"
   ]
  },
  {
   "cell_type": "markdown",
   "id": "22c3c842",
   "metadata": {},
   "source": [
    "#Q4. Write a Python Program to calculate the natural logarithm of any number?"
   ]
  },
  {
   "cell_type": "code",
   "execution_count": 16,
   "id": "fb4e8f10",
   "metadata": {},
   "outputs": [
    {
     "data": {
      "text/plain": [
       "2.995732273553991"
      ]
     },
     "execution_count": 16,
     "metadata": {},
     "output_type": "execute_result"
    }
   ],
   "source": [
    "#Answer Q4:\n",
    "import math\n",
    "def natlog(n):\n",
    "    return math.log(n)\n",
    "    \n",
    "natlog(20)   "
   ]
  },
  {
   "cell_type": "markdown",
   "id": "fed33c37",
   "metadata": {},
   "source": [
    "#Q5. Write a Python Program for cube sum of first n natural numbers?"
   ]
  },
  {
   "cell_type": "code",
   "execution_count": 20,
   "id": "9be091f9",
   "metadata": {},
   "outputs": [
    {
     "data": {
      "text/plain": [
       "36"
      ]
     },
     "execution_count": 20,
     "metadata": {},
     "output_type": "execute_result"
    }
   ],
   "source": [
    "#Answer Q5.\n",
    "def cubsum(n):\n",
    "    x=0\n",
    "    for i in range(1,n+1):\n",
    "        x=x+i**3\n",
    "    return x\n",
    "cubsum(3)"
   ]
  },
  {
   "cell_type": "code",
   "execution_count": null,
   "id": "881fe06c",
   "metadata": {},
   "outputs": [],
   "source": []
  },
  {
   "cell_type": "code",
   "execution_count": null,
   "id": "9bb8ca3a",
   "metadata": {},
   "outputs": [],
   "source": []
  }
 ],
 "metadata": {
  "kernelspec": {
   "display_name": "Python 3 (ipykernel)",
   "language": "python",
   "name": "python3"
  },
  "language_info": {
   "codemirror_mode": {
    "name": "ipython",
    "version": 3
   },
   "file_extension": ".py",
   "mimetype": "text/x-python",
   "name": "python",
   "nbconvert_exporter": "python",
   "pygments_lexer": "ipython3",
   "version": "3.9.7"
  }
 },
 "nbformat": 4,
 "nbformat_minor": 5
}

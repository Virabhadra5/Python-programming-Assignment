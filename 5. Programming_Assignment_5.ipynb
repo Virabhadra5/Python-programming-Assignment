{
 "cells": [
  {
   "cell_type": "markdown",
   "id": "ad2827c5",
   "metadata": {},
   "source": [
    "#Q1. Write a Python Program to Find LCM?"
   ]
  },
  {
   "cell_type": "code",
   "execution_count": 13,
   "id": "51329807",
   "metadata": {},
   "outputs": [
    {
     "data": {
      "text/plain": [
       "30"
      ]
     },
     "execution_count": 13,
     "metadata": {},
     "output_type": "execute_result"
    }
   ],
   "source": [
    "#Answer Q1:\n",
    "    \n",
    "def lcm(a,b):\n",
    "    if a>b:\n",
    "        x=a\n",
    "    else:\n",
    "        x=b\n",
    "    while True:\n",
    "        if (x%a==0 and x%b==0):\n",
    "            lcm=x\n",
    "            break\n",
    "        x+=1\n",
    "    return lcm\n",
    "lcm(6,15)"
   ]
  },
  {
   "cell_type": "markdown",
   "id": "a8cb0cfd",
   "metadata": {},
   "source": [
    "#Q2. Write a Python Program to Find HCF?"
   ]
  },
  {
   "cell_type": "code",
   "execution_count": 14,
   "id": "be68b3ec",
   "metadata": {},
   "outputs": [
    {
     "data": {
      "text/plain": [
       "3"
      ]
     },
     "execution_count": 14,
     "metadata": {},
     "output_type": "execute_result"
    }
   ],
   "source": [
    "#Answer Q1:\n",
    "    \n",
    "def hcf(a,b):\n",
    "    i=1\n",
    "    if a<b:\n",
    "        x=a\n",
    "    else:\n",
    "        x=b\n",
    "    while i<=x:\n",
    "        if (a%i==0 and b%i==0):\n",
    "            hcf=i\n",
    "            \n",
    "        i+=1\n",
    "    return hcf\n",
    "hcf(6,15)"
   ]
  },
  {
   "cell_type": "markdown",
   "id": "2029ffe8",
   "metadata": {},
   "source": [
    "#Q3. Write a Python Program to Convert Decimal to Binary, Octal and Hexadecimal?"
   ]
  },
  {
   "cell_type": "code",
   "execution_count": 16,
   "id": "20281ab7",
   "metadata": {},
   "outputs": [
    {
     "name": "stdout",
     "output_type": "stream",
     "text": [
      "Binary of decimal is = 0b10111011\n",
      "octal  of decimal is =  0o273\n",
      "hexadecimal of decimal is = 0xbb\n"
     ]
    }
   ],
   "source": [
    "#Answer Q3:\n",
    "\n",
    "dec=187\n",
    "\n",
    "print(\"Binary of decimal is =\", bin(dec))\n",
    "print(\"octal  of decimal is = \", oct(dec))\n",
    "print(\"hexadecimal of decimal is =\", hex(dec))"
   ]
  },
  {
   "cell_type": "markdown",
   "id": "9d6168af",
   "metadata": {},
   "source": [
    "#Q4. Write a Python Program To Find ASCII value of a character?"
   ]
  },
  {
   "cell_type": "code",
   "execution_count": 17,
   "id": "9473a64f",
   "metadata": {},
   "outputs": [
    {
     "name": "stdout",
     "output_type": "stream",
     "text": [
      "ASCII value of the char =  65\n"
     ]
    }
   ],
   "source": [
    "#Answer Q4:\n",
    "char = \"A\"\n",
    "print(\"ASCII value of the char = \", ord(char))"
   ]
  },
  {
   "cell_type": "markdown",
   "id": "344df75d",
   "metadata": {},
   "source": [
    "#Q5. Write a Python Program to Make a Simple Calculator with 4 basic mathematical operations?"
   ]
  },
  {
   "cell_type": "code",
   "execution_count": 20,
   "id": "39d73e0b",
   "metadata": {},
   "outputs": [
    {
     "name": "stdout",
     "output_type": "stream",
     "text": [
      "please select the operator    \n",
      "1.addition(+)    \n",
      "2.subsraction(-)    \n",
      "3.multiplication(*)    \n",
      "4.division(/)\n",
      "enter the operation > +\n",
      "enter number a20\n",
      "enter number b10\n"
     ]
    },
    {
     "data": {
      "text/plain": [
       "30.0"
      ]
     },
     "execution_count": 20,
     "metadata": {},
     "output_type": "execute_result"
    }
   ],
   "source": [
    "#Answer Q5:\n",
    "def calculator():\n",
    "    \n",
    "    print(\"please select the operator\\\n",
    "    \\n1.addition(+)\\\n",
    "    \\n2.subsraction(-)\\\n",
    "    \\n3.multiplication(*)\\\n",
    "    \\n4.division(/)\")\n",
    "    \n",
    "    operator=input(\"enter the operation > \")\n",
    "    a=float(input(\"enter number a\"))\n",
    "    b=float(input(\"enter number b\"))\n",
    "    \n",
    "    if operator not in [\"+\", \"-\", \"*\", \"/\"]:\n",
    "        print(\"enter valid operator\")\n",
    "    elif operator==\"+\":\n",
    "        return a+b\n",
    "    elif operator == \"-\":\n",
    "        return a-b\n",
    "    elif operator == \"*\":\n",
    "        return a*b\n",
    "    elif operator == \"/\":\n",
    "        if b==0:\n",
    "            print(\"enter valid input other than zero\")\n",
    "        else:\n",
    "            return a/b\n",
    "    \n",
    "\n",
    "calculator()      \n"
   ]
  },
  {
   "cell_type": "code",
   "execution_count": 21,
   "id": "a6d5f569",
   "metadata": {},
   "outputs": [
    {
     "name": "stdout",
     "output_type": "stream",
     "text": [
      "please select the operator    \n",
      "1.addition(+)    \n",
      "2.subsraction(-)    \n",
      "3.multiplication(*)    \n",
      "4.division(/)\n",
      "enter the operation > *\n",
      "enter number a20\n",
      "enter number b30\n"
     ]
    },
    {
     "data": {
      "text/plain": [
       "600.0"
      ]
     },
     "execution_count": 21,
     "metadata": {},
     "output_type": "execute_result"
    }
   ],
   "source": [
    "calculator() \n"
   ]
  },
  {
   "cell_type": "code",
   "execution_count": 23,
   "id": "25aa806c",
   "metadata": {},
   "outputs": [
    {
     "name": "stdout",
     "output_type": "stream",
     "text": [
      "please select the operator    \n",
      "1.addition(+)    \n",
      "2.subsraction(-)    \n",
      "3.multiplication(*)    \n",
      "4.division(/)\n",
      "enter the operation > /\n",
      "enter number a25\n",
      "enter number b2\n"
     ]
    },
    {
     "data": {
      "text/plain": [
       "12.5"
      ]
     },
     "execution_count": 23,
     "metadata": {},
     "output_type": "execute_result"
    }
   ],
   "source": [
    "\n",
    "calculator() \n"
   ]
  },
  {
   "cell_type": "code",
   "execution_count": null,
   "id": "214dc744",
   "metadata": {},
   "outputs": [],
   "source": []
  }
 ],
 "metadata": {
  "kernelspec": {
   "display_name": "Python 3 (ipykernel)",
   "language": "python",
   "name": "python3"
  },
  "language_info": {
   "codemirror_mode": {
    "name": "ipython",
    "version": 3
   },
   "file_extension": ".py",
   "mimetype": "text/x-python",
   "name": "python",
   "nbconvert_exporter": "python",
   "pygments_lexer": "ipython3",
   "version": "3.9.7"
  }
 },
 "nbformat": 4,
 "nbformat_minor": 5
}
